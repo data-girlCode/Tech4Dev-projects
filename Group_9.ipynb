{
  "nbformat": 4,
  "nbformat_minor": 0,
  "metadata": {
    "colab": {
      "provenance": []
    },
    "kernelspec": {
      "name": "python3",
      "display_name": "Python 3"
    },
    "language_info": {
      "name": "python"
    }
  },
  "cells": [
    {
      "cell_type": "markdown",
      "source": [
        "Group Members\n",
        "1. Wambi Yvette Nerima\n",
        "2. Faith Arayi\n",
        "4. Betty Igbukan\n",
        "5. Sharon Alawode\n",
        "9. Maryam Habib\n",
        "6. Adenike Bello\n",
        "8. Isaac Kehinde\n",
        "9. Adebayo Khadijah\n"
      ],
      "metadata": {
        "id": "qcRJXVOKQQ6J"
      }
    },
    {
      "cell_type": "code",
      "source": [
        "#1. Given a tuple my_tuple = (10, 20, 30, 40, 50), write a Python program to print the element at index 3.\n",
        "tuple = (10, 20, 30, 40, 50)\n",
        "\n",
        "# Access and print the element at index 3\n",
        "X = tuple[3]\n",
        "print(\"Element at index 3:\", X)\n"
      ],
      "metadata": {
        "id": "r5xTFYAybdpu",
        "colab": {
          "base_uri": "https://localhost:8080/"
        },
        "outputId": "8fda1ae6-3538-4734-cec8-75c52a6e8dd1"
      },
      "execution_count": null,
      "outputs": [
        {
          "output_type": "stream",
          "name": "stdout",
          "text": [
            "Element at index 3: 40\n"
          ]
        }
      ]
    },
    {
      "cell_type": "code",
      "execution_count": null,
      "metadata": {
        "id": "OH1Z9KlGNOSW",
        "colab": {
          "base_uri": "https://localhost:8080/"
        },
        "outputId": "ecbda5de-e08e-4199-bdce-2383c29840f8"
      },
      "outputs": [
        {
          "output_type": "stream",
          "name": "stdout",
          "text": [
            "[3, 4, 5, 6, 7]\n"
          ]
        }
      ],
      "source": [
        "#2. Create a list my_list with elements from 1 to 10. Write a python program to print elements from index 2 to 6 (inclusive)\n",
        "my_list = list(range(1,11))\n",
        "elements = my_list[2:-3]\n",
        "print(elements)"
      ]
    },
    {
      "cell_type": "code",
      "source": [
        "# 3. Create a dictionary my_dict with keys as fruit names and values as their respective quantities. Write a Python program to print the quantity of the fruit 'apple'.\n",
        "\n",
        "my_dict = {\"cherry\": 7, \"apple\": 10, \"grape\": 6, \"banana\": 10, \"orange\": 15}\n",
        "print(my_dict[\"cherry\"])"
      ],
      "metadata": {
        "id": "JOGz0ymPiHzo",
        "colab": {
          "base_uri": "https://localhost:8080/"
        },
        "outputId": "41fe570a-dace-424e-b66e-2b2a8fc6d559"
      },
      "execution_count": null,
      "outputs": [
        {
          "output_type": "stream",
          "name": "stdout",
          "text": [
            "7\n"
          ]
        }
      ]
    },
    {
      "cell_type": "code",
      "source": [
        "\"\"\"4. Create two sets set1 and set2 with some common elements. Write a Python program to\n",
        "find the common elements between these two sets\"\"\"\n",
        "set1 = {4, 5, 6, 7, 8, 9}\n",
        "set2 = {8, 9, 10, 11, 12}\n",
        "common_elements = set1.intersection(set2)\n",
        "print(\"Common Elements:\", common_elements)"
      ],
      "metadata": {
        "id": "u883ySF-P-kP",
        "outputId": "2b2bd8a7-a82d-4bb3-99dc-416135914e09",
        "colab": {
          "base_uri": "https://localhost:8080/"
        }
      },
      "execution_count": null,
      "outputs": [
        {
          "output_type": "stream",
          "name": "stdout",
          "text": [
            "Common Elements: {8, 9}\n"
          ]
        }
      ]
    },
    {
      "cell_type": "code",
      "source": [
        "# 5. Given a list my_numbers = [10, 20, 30, 40, 50], write a Python program to print all elements except the first and last.\n",
        "my_numbers = [10, 20, 30, 40, 50]\n",
        "new_number = my_numbers[1:4]\n",
        "print(new_number)\n"
      ],
      "metadata": {
        "id": "lPvT6xsbWE33",
        "colab": {
          "base_uri": "https://localhost:8080/"
        },
        "outputId": "388974bd-5351-4be7-d77d-2964421668fd"
      },
      "execution_count": null,
      "outputs": [
        {
          "output_type": "stream",
          "name": "stdout",
          "text": [
            "[20, 30, 40]\n"
          ]
        }
      ]
    },
    {
      "cell_type": "code",
      "source": [
        "\"\"\" 6. Given a tuple coordinates = (45, 60, 75), write a Python program to unpack the values and store them in variables x, y, and z.\n",
        "Then, print the sum of these values \"\"\"\n",
        "tuple_coordinates = (45, 60, 75)\n",
        "\n",
        "# Store values into variables x, y, and z\n",
        "x, y, z = tuple_coordinates\n",
        "print(f\"The variables are: x = {x}, y = {y}, z = {z}\")\n",
        "print (\"The coordinates value is\", (x, y, z))\n",
        "\n",
        "# Sum the values\n",
        "sum_coordinates = x + y + z\n",
        "print(\"The sum of the coordinate values is:\", sum_coordinates)\n"
      ],
      "metadata": {
        "id": "4r3MsqPgW90q",
        "colab": {
          "base_uri": "https://localhost:8080/"
        },
        "outputId": "9cda9e55-eb5b-4731-f77b-44c50325076a"
      },
      "execution_count": null,
      "outputs": [
        {
          "output_type": "stream",
          "name": "stdout",
          "text": [
            "The variables are: x = 45, y = 60, z = 75\n",
            "The coordinates value is (45, 60, 75)\n",
            "The sum of the coordinate values is: 180\n"
          ]
        }
      ]
    },
    {
      "cell_type": "code",
      "source": [
        "#7.  Create a list of tuples where each tuple contains a name and an associated numeric score. Write a Python program to sort the list based on the numeric score in descending order.\n",
        "\n",
        "#Create a list of tuples\n",
        "\n",
        "name_score_list = [(\"Sade\", 83), (\"Ella\", 95), (\"Kemi\", 73), (\"Ruth\", 97), (\"Temi\", 83)]\n",
        "\n",
        "# Define a function to get the second element of a tuple\n",
        "def get_second_element(tuple):\n",
        "    return tuple[1]\n",
        "\n",
        "# Sort the list based on the numeric score in descending order\n",
        "name_score_list.sort(key=get_second_element, reverse=True)\n",
        "\n",
        "# Print the sorted list\n",
        "print(name_score_list)\n",
        "\n"
      ],
      "metadata": {
        "id": "M2KEE0yBiau0",
        "colab": {
          "base_uri": "https://localhost:8080/"
        },
        "outputId": "7b31b2d3-812b-4a79-be85-3fafc93c232b"
      },
      "execution_count": null,
      "outputs": [
        {
          "output_type": "stream",
          "name": "stdout",
          "text": [
            "[('Ruth', 97), ('Ella', 95), ('Sade', 83), ('Temi', 83), ('Kemi', 73)]\n"
          ]
        }
      ]
    },
    {
      "cell_type": "code",
      "source": [
        "\"\"\" 8.Given a dictionary words_count = {'apple': 3, 'banana': 5, 'orange': 2},\n",
        "write a Python program to create a new dictionary containing only the words with more than 2 occurrences. \"\"\"\n",
        "\n",
        "words_count = {'apple': 3, 'banana': 5, 'orange': 2}\n",
        "\n",
        "# Create a new dictionary with words having more than 2 occurrences\n",
        "filtered_words = {word: count for word, count in words_count.items() if count > 2}\n",
        "\n",
        "print(filtered_words)\n"
      ],
      "metadata": {
        "id": "S1bbTKvBibIC",
        "colab": {
          "base_uri": "https://localhost:8080/"
        },
        "outputId": "d2ffbd93-3d27-43f9-c680-c9505d430a33"
      },
      "execution_count": null,
      "outputs": [
        {
          "output_type": "stream",
          "name": "stdout",
          "text": [
            "{'apple': 3, 'banana': 5}\n"
          ]
        }
      ]
    },
    {
      "cell_type": "code",
      "source": [
        "# 9. Given a string sentence = \"This is a sample sentence\", write a Python program to reverse the order of words in the sentence\n",
        "def reverse_words(sentence):\n",
        "    words = sentence.split()\n",
        "    reversed_sentence = ' '.join(reversed(words))\n",
        "    return reversed_sentence\n",
        "\n",
        "# Example with the given sentence\n",
        "sentence = 'This is an example with a given sentence'\n",
        "reversed_sentence = reverse_words(sentence)\n",
        "\n",
        "print(\"Original sentence is:\", sentence)\n",
        "print(\"Reversed sentence is:\", reversed_sentence)\n"
      ],
      "metadata": {
        "id": "_YxIbqmISC2q",
        "colab": {
          "base_uri": "https://localhost:8080/"
        },
        "outputId": "3db6789e-973c-4613-cd44-6e6cb1668e57"
      },
      "execution_count": null,
      "outputs": [
        {
          "output_type": "stream",
          "name": "stdout",
          "text": [
            "Original sentence is: This is an example with a given sentence\n",
            "Reversed sentence is: sentence given a with example an is This\n"
          ]
        }
      ]
    },
    {
      "cell_type": "code",
      "source": [],
      "metadata": {
        "id": "xeRs2vW8nzWm"
      },
      "execution_count": null,
      "outputs": []
    }
  ]
}